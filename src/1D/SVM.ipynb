{
  "nbformat": 4,
  "nbformat_minor": 0,
  "metadata": {
    "colab": {
      "name": "SVM.ipynb",
      "provenance": [],
      "collapsed_sections": []
    },
    "kernelspec": {
      "name": "python3",
      "display_name": "Python 3"
    },
    "language_info": {
      "name": "python"
    }
  },
  "cells": [
    {
      "cell_type": "code",
      "source": [
        "# from google.colab import drive\n",
        "# drive.mount('/content/drive')"
      ],
      "metadata": {
        "id": "lHw5aBap6Z-f"
      },
      "execution_count": null,
      "outputs": []
    },
    {
      "cell_type": "markdown",
      "source": [
        "#**Importing Necessary Libraries**"
      ],
      "metadata": {
        "id": "SrTnlDif6w-9"
      }
    },
    {
      "cell_type": "code",
      "source": [
        "import numpy as np\n",
        "import pandas as pd\n",
        "import seaborn as sns\n",
        "import matplotlib.pyplot as plt\n",
        "%matplotlib inline"
      ],
      "metadata": {
        "id": "rJaNCv7R6wp4"
      },
      "execution_count": null,
      "outputs": []
    },
    {
      "cell_type": "code",
      "source": [
        "from sklearn.svm import SVC\n",
        "from sklearn.metrics import confusion_matrix\n",
        "from sklearn.preprocessing import StandardScaler\n",
        "from sklearn.metrics import classification_report\n",
        "from sklearn.model_selection import RandomizedSearchCV"
      ],
      "metadata": {
        "id": "H-pyFw8A_16w"
      },
      "execution_count": null,
      "outputs": []
    },
    {
      "cell_type": "code",
      "source": [
        "import warnings\n",
        "warnings.filterwarnings('ignore')"
      ],
      "metadata": {
        "id": "bKVI8rycAU2r"
      },
      "execution_count": null,
      "outputs": []
    },
    {
      "cell_type": "markdown",
      "source": [
        "#**Data 1(with constraints)**"
      ],
      "metadata": {
        "id": "u4wDKpxAAWUH"
      }
    },
    {
      "cell_type": "markdown",
      "source": [
        "##**1000 Data Points**"
      ],
      "metadata": {
        "id": "nm540nSjAX1u"
      }
    },
    {
      "cell_type": "code",
      "source": [
        "df_train = pd.DataFrame()\n",
        "df_test = pd.DataFrame()\n",
        "\n",
        "for i in range(5):\n",
        "  df_train1 = pd.DataFrame()\n",
        "  df_train1 = pd.read_csv(f\"/content/drive/MyDrive/BTP/Data/1D/data-1/w_1/train/{i}.csv\")\n",
        "  df_train1 = df_train1.drop(df_train1.columns[0], axis=1)  \n",
        "  df_train1[\"target\"] = np.ones(df_train1.shape[0], dtype=\"int\")*i\n",
        "  df_train = pd.concat([df_train, df_train1], axis=0)\n",
        "\n",
        "  df_test1 = pd.DataFrame()\n",
        "  df_test1 = pd.read_csv(f\"/content/drive/MyDrive/BTP/Data/1D/data-1/w_1/test/{i}.csv\")\n",
        "  df_test1 = df_test1.drop(df_test1.columns[0], axis=1)  \n",
        "  df_test1[\"target\"] = np.ones(df_test1.shape[0])*i\n",
        "  df_test = pd.concat([df_test, df_test1], axis=0)\n",
        "\n",
        "  df_valid = pd.DataFrame()\n",
        "  df_valid = pd.read_csv(f\"/content/drive/MyDrive/BTP/Data/1D/data-1/w_1/validation/{i}.csv\")\n",
        "  df_valid = df_valid.drop(df_valid.columns[0], axis=1)  \n",
        "  df_valid[\"target\"] = np.ones(df_valid.shape[0])*i\n",
        "  df_test = pd.concat([df_test, df_valid], axis=0)\n",
        "\n",
        "X_train = df_train.drop(\"target\", axis=1)\n",
        "Y_train = df_train[\"target\"]\n",
        "\n",
        "X_train = np.array(X_train)\n",
        "Y_train = np.array(Y_train, dtype='int')\n",
        "\n",
        "X_test = df_test.drop(\"target\", axis=1)\n",
        "Y_test = df_test[\"target\"]\n",
        "\n",
        "X_test = np.array(X_test)\n",
        "Y_test = np.array(Y_test, dtype='int')\n",
        "\n",
        "ss = StandardScaler()\n",
        "ss.fit(X_train)\n",
        "\n",
        "X_train = ss.transform(X_train)\n",
        "X_test = ss.transform(X_test)"
      ],
      "metadata": {
        "id": "EixKrpolAbP9"
      },
      "execution_count": null,
      "outputs": []
    },
    {
      "cell_type": "code",
      "source": [
        "C = [0, 0.001, 0.01, 0.1, 1, 10, 100]\n",
        "kernel = ['linear', 'poly', 'rbf']\n",
        "\n",
        "model_params = {\n",
        "    'Support Vector Machine':{\n",
        "        'model': SVC(),\n",
        "        'params':{\n",
        "            'C': C,\n",
        "            'kernel': kernel\n",
        "        }\n",
        "    }\n",
        "}"
      ],
      "metadata": {
        "id": "1MCWXENHQ7uX"
      },
      "execution_count": null,
      "outputs": []
    },
    {
      "cell_type": "code",
      "source": [
        "scores = []\n",
        "\n",
        "for model_name, mp in model_params.items():\n",
        "    best_model = RandomizedSearchCV(estimator=mp['model'], \n",
        "                                    param_distributions=mp['params'], \n",
        "                                    scoring='accuracy', \n",
        "                                    n_iter = 21,\n",
        "                                    cv=3,\n",
        "                                    verbose=0)\n",
        "    \n",
        "    best_model.fit(X_train, Y_train)\n",
        "    scores.append({\n",
        "        'model':model_name,\n",
        "        'Best Score':best_model.best_score_,\n",
        "        'Best Parameter':best_model.best_params_\n",
        "    })\n",
        "\n",
        "best_params = pd.DataFrame(scores)\n",
        "best_params.head()"
      ],
      "metadata": {
        "cellView": "code",
        "id": "FoK1n6aKPyoQ",
        "colab": {
          "base_uri": "https://localhost:8080/",
          "height": 80
        },
        "outputId": "d5af2633-f42a-40ab-daac-38ee98302071"
      },
      "execution_count": null,
      "outputs": [
        {
          "output_type": "execute_result",
          "data": {
            "text/html": [
              "\n",
              "  <div id=\"df-733030d9-5ea3-437b-9e31-b264df65f4cc\">\n",
              "    <div class=\"colab-df-container\">\n",
              "      <div>\n",
              "<style scoped>\n",
              "    .dataframe tbody tr th:only-of-type {\n",
              "        vertical-align: middle;\n",
              "    }\n",
              "\n",
              "    .dataframe tbody tr th {\n",
              "        vertical-align: top;\n",
              "    }\n",
              "\n",
              "    .dataframe thead th {\n",
              "        text-align: right;\n",
              "    }\n",
              "</style>\n",
              "<table border=\"1\" class=\"dataframe\">\n",
              "  <thead>\n",
              "    <tr style=\"text-align: right;\">\n",
              "      <th></th>\n",
              "      <th>model</th>\n",
              "      <th>Best Score</th>\n",
              "      <th>Best Parameter</th>\n",
              "    </tr>\n",
              "  </thead>\n",
              "  <tbody>\n",
              "    <tr>\n",
              "      <th>0</th>\n",
              "      <td>Support Vector Machine</td>\n",
              "      <td>0.493333</td>\n",
              "      <td>{'kernel': 'rbf', 'C': 10}</td>\n",
              "    </tr>\n",
              "  </tbody>\n",
              "</table>\n",
              "</div>\n",
              "      <button class=\"colab-df-convert\" onclick=\"convertToInteractive('df-733030d9-5ea3-437b-9e31-b264df65f4cc')\"\n",
              "              title=\"Convert this dataframe to an interactive table.\"\n",
              "              style=\"display:none;\">\n",
              "        \n",
              "  <svg xmlns=\"http://www.w3.org/2000/svg\" height=\"24px\"viewBox=\"0 0 24 24\"\n",
              "       width=\"24px\">\n",
              "    <path d=\"M0 0h24v24H0V0z\" fill=\"none\"/>\n",
              "    <path d=\"M18.56 5.44l.94 2.06.94-2.06 2.06-.94-2.06-.94-.94-2.06-.94 2.06-2.06.94zm-11 1L8.5 8.5l.94-2.06 2.06-.94-2.06-.94L8.5 2.5l-.94 2.06-2.06.94zm10 10l.94 2.06.94-2.06 2.06-.94-2.06-.94-.94-2.06-.94 2.06-2.06.94z\"/><path d=\"M17.41 7.96l-1.37-1.37c-.4-.4-.92-.59-1.43-.59-.52 0-1.04.2-1.43.59L10.3 9.45l-7.72 7.72c-.78.78-.78 2.05 0 2.83L4 21.41c.39.39.9.59 1.41.59.51 0 1.02-.2 1.41-.59l7.78-7.78 2.81-2.81c.8-.78.8-2.07 0-2.86zM5.41 20L4 18.59l7.72-7.72 1.47 1.35L5.41 20z\"/>\n",
              "  </svg>\n",
              "      </button>\n",
              "      \n",
              "  <style>\n",
              "    .colab-df-container {\n",
              "      display:flex;\n",
              "      flex-wrap:wrap;\n",
              "      gap: 12px;\n",
              "    }\n",
              "\n",
              "    .colab-df-convert {\n",
              "      background-color: #E8F0FE;\n",
              "      border: none;\n",
              "      border-radius: 50%;\n",
              "      cursor: pointer;\n",
              "      display: none;\n",
              "      fill: #1967D2;\n",
              "      height: 32px;\n",
              "      padding: 0 0 0 0;\n",
              "      width: 32px;\n",
              "    }\n",
              "\n",
              "    .colab-df-convert:hover {\n",
              "      background-color: #E2EBFA;\n",
              "      box-shadow: 0px 1px 2px rgba(60, 64, 67, 0.3), 0px 1px 3px 1px rgba(60, 64, 67, 0.15);\n",
              "      fill: #174EA6;\n",
              "    }\n",
              "\n",
              "    [theme=dark] .colab-df-convert {\n",
              "      background-color: #3B4455;\n",
              "      fill: #D2E3FC;\n",
              "    }\n",
              "\n",
              "    [theme=dark] .colab-df-convert:hover {\n",
              "      background-color: #434B5C;\n",
              "      box-shadow: 0px 1px 3px 1px rgba(0, 0, 0, 0.15);\n",
              "      filter: drop-shadow(0px 1px 2px rgba(0, 0, 0, 0.3));\n",
              "      fill: #FFFFFF;\n",
              "    }\n",
              "  </style>\n",
              "\n",
              "      <script>\n",
              "        const buttonEl =\n",
              "          document.querySelector('#df-733030d9-5ea3-437b-9e31-b264df65f4cc button.colab-df-convert');\n",
              "        buttonEl.style.display =\n",
              "          google.colab.kernel.accessAllowed ? 'block' : 'none';\n",
              "\n",
              "        async function convertToInteractive(key) {\n",
              "          const element = document.querySelector('#df-733030d9-5ea3-437b-9e31-b264df65f4cc');\n",
              "          const dataTable =\n",
              "            await google.colab.kernel.invokeFunction('convertToInteractive',\n",
              "                                                     [key], {});\n",
              "          if (!dataTable) return;\n",
              "\n",
              "          const docLinkHtml = 'Like what you see? Visit the ' +\n",
              "            '<a target=\"_blank\" href=https://colab.research.google.com/notebooks/data_table.ipynb>data table notebook</a>'\n",
              "            + ' to learn more about interactive tables.';\n",
              "          element.innerHTML = '';\n",
              "          dataTable['output_type'] = 'display_data';\n",
              "          await google.colab.output.renderOutput(dataTable, element);\n",
              "          const docLink = document.createElement('div');\n",
              "          docLink.innerHTML = docLinkHtml;\n",
              "          element.appendChild(docLink);\n",
              "        }\n",
              "      </script>\n",
              "    </div>\n",
              "  </div>\n",
              "  "
            ],
            "text/plain": [
              "                    model  Best Score              Best Parameter\n",
              "0  Support Vector Machine    0.493333  {'kernel': 'rbf', 'C': 10}"
            ]
          },
          "metadata": {},
          "execution_count": 7
        }
      ]
    },
    {
      "cell_type": "code",
      "source": [
        "svm = SVC(kernel = 'rbf', C = 10)\n",
        "svm.fit(X_train, Y_train)\n",
        "\n",
        "Y_pred_train = svm.predict(X_train)\n",
        "Y_pred_test = svm.predict(X_test)\n",
        "\n",
        "print(\"Classification Report(Train)\\n\")\n",
        "print(classification_report(Y_train, Y_pred_train))\n",
        "\n",
        "print('\\n')\n",
        "\n",
        "print(\"Classification Report(Test)\\n\")\n",
        "print(classification_report(Y_test, Y_pred_test))"
      ],
      "metadata": {
        "colab": {
          "base_uri": "https://localhost:8080/"
        },
        "id": "LpVgpEziMQLg",
        "outputId": "86d02006-e138-47c1-8fb0-31ea039136a5"
      },
      "execution_count": null,
      "outputs": [
        {
          "output_type": "stream",
          "name": "stdout",
          "text": [
            "Classification Report(Train)\n",
            "\n",
            "              precision    recall  f1-score   support\n",
            "\n",
            "           0       0.68      0.68      0.68       120\n",
            "           1       0.60      0.62      0.61       120\n",
            "           2       0.91      0.88      0.89       120\n",
            "           3       0.72      0.71      0.71       120\n",
            "           4       0.79      0.79      0.79       120\n",
            "\n",
            "    accuracy                           0.74       600\n",
            "   macro avg       0.74      0.74      0.74       600\n",
            "weighted avg       0.74      0.74      0.74       600\n",
            "\n",
            "\n",
            "\n",
            "Classification Report(Test)\n",
            "\n",
            "              precision    recall  f1-score   support\n",
            "\n",
            "           0       0.45      0.50      0.48        30\n",
            "           1       0.43      0.40      0.41        30\n",
            "           2       0.80      0.80      0.80        30\n",
            "           3       0.62      0.53      0.57        30\n",
            "           4       0.52      0.57      0.54        30\n",
            "\n",
            "    accuracy                           0.56       150\n",
            "   macro avg       0.56      0.56      0.56       150\n",
            "weighted avg       0.56      0.56      0.56       150\n",
            "\n"
          ]
        }
      ]
    },
    {
      "cell_type": "code",
      "source": [
        "cm = confusion_matrix(Y_test, Y_pred_test);\n",
        "\n",
        "sns.heatmap(cm, annot=True, fmt='.3g', cmap='Blues')\n",
        "plt.title('Confusion Matrix')\n",
        "plt.xlabel('Predicted Y')\n",
        "plt.ylabel('Actual Y')\n",
        "\n",
        "plt.xticks(np.arange(5));\n",
        "plt.yticks(np.arange(5));\n",
        "\n",
        "plt.show()"
      ],
      "metadata": {
        "colab": {
          "base_uri": "https://localhost:8080/",
          "height": 295
        },
        "id": "kxQ-E7skh3lO",
        "outputId": "b281a40c-01f7-4100-b107-7d61349d30c7"
      },
      "execution_count": null,
      "outputs": [
        {
          "output_type": "display_data",
          "data": {
            "image/png": "[encoded data removed]",
            "text/plain": [
              "<Figure size 432x288 with 2 Axes>"
            ]
          },
          "metadata": {
            "needs_background": "light"
          }
        }
      ]
    },
    {
      "cell_type": "markdown",
      "source": [
        "##**2000 Data points**"
      ],
      "metadata": {
        "id": "uPRpzIliAcSW"
      }
    },
    {
      "cell_type": "code",
      "source": [
        "df_train = pd.DataFrame()\n",
        "df_test = pd.DataFrame()\n",
        "\n",
        "for i in range(5):\n",
        "  df_train1 = pd.DataFrame()\n",
        "  df_train1 = pd.read_csv(f\"/content/drive/MyDrive/BTP/Data/1D/data-1/w_0.5/train/{i}.csv\")\n",
        "  df_train1 = df_train1.drop(df_train1.columns[0], axis=1)  \n",
        "  df_train1[\"target\"] = np.ones(df_train1.shape[0], dtype=\"int\")*i\n",
        "  df_train = pd.concat([df_train, df_train1], axis=0)\n",
        "\n",
        "  df_test1 = pd.DataFrame()\n",
        "  df_test1 = pd.read_csv(f\"/content/drive/MyDrive/BTP/Data/1D/data-1/w_0.5/test/{i}.csv\")\n",
        "  df_test1 = df_test1.drop(df_test1.columns[0], axis=1)  \n",
        "  df_test1[\"target\"] = np.ones(df_test1.shape[0])*i\n",
        "  df_test = pd.concat([df_test, df_test1], axis=0)\n",
        "\n",
        "  df_valid = pd.DataFrame()\n",
        "  df_valid = pd.read_csv(f\"/content/drive/MyDrive/BTP/Data/1D/data-1/w_0.5/validation/{i}.csv\")\n",
        "  df_valid = df_valid.drop(df_valid.columns[0], axis=1)  \n",
        "  df_valid[\"target\"] = np.ones(df_valid.shape[0])*i\n",
        "  df_test = pd.concat([df_test, df_valid], axis=0)\n",
        "\n",
        "X_train = df_train.drop(\"target\", axis=1)\n",
        "Y_train = df_train[\"target\"]\n",
        "\n",
        "X_train = np.array(X_train)\n",
        "Y_train = np.array(Y_train, dtype='int')\n",
        "\n",
        "X_test = df_test.drop(\"target\", axis=1)\n",
        "Y_test = df_test[\"target\"]\n",
        "\n",
        "X_test = np.array(X_test)\n",
        "Y_test = np.array(Y_test, dtype='int')\n",
        "\n",
        "ss = StandardScaler()\n",
        "ss.fit(X_train)\n",
        "\n",
        "X_train = ss.transform(X_train)\n",
        "X_test = ss.transform(X_test)"
      ],
      "metadata": {
        "id": "8c4AbePzB1Xh"
      },
      "execution_count": null,
      "outputs": []
    },
    {
      "cell_type": "code",
      "source": [
        "C = [0, 0.001, 0.01, 0.1, 1, 10, 100]\n",
        "kernel = ['linear', 'poly', 'rbf']\n",
        "\n",
        "model_params = {\n",
        "    'Support Vector Machine':{\n",
        "        'model': SVC(),\n",
        "        'params':{\n",
        "            'C': C,\n",
        "            'kernel': kernel\n",
        "        }\n",
        "    }\n",
        "}"
      ],
      "metadata": {
        "id": "FURGqkjAlYdE"
      },
      "execution_count": null,
      "outputs": []
    },
    {
      "cell_type": "code",
      "source": [
        "scores = []\n",
        "\n",
        "for model_name, mp in model_params.items():\n",
        "    best_model = RandomizedSearchCV(estimator=mp['model'], \n",
        "                                    param_distributions=mp['params'], \n",
        "                                    scoring='accuracy', \n",
        "                                    n_iter = 21,\n",
        "                                    cv=3,\n",
        "                                    verbose=0)\n",
        "    \n",
        "    best_model.fit(X_train, Y_train)\n",
        "    scores.append({\n",
        "        'model':model_name,\n",
        "        'Best Score':best_model.best_score_,\n",
        "        'Best Parameter':best_model.best_params_\n",
        "    })\n",
        "\n",
        "best_params = pd.DataFrame(scores)\n",
        "best_params.head()"
      ],
      "metadata": {
        "id": "RHRtjtpHlYfE",
        "colab": {
          "base_uri": "https://localhost:8080/",
          "height": 80
        },
        "outputId": "52871806-c033-4ddf-d377-5600a87f692c"
      },
      "execution_count": null,
      "outputs": [
        {
          "output_type": "execute_result",
          "data": {
            "text/html": [
              "\n",
              "  <div id=\"df-5554f246-d063-4564-9c4a-c2a949b2590f\">\n",
              "    <div class=\"colab-df-container\">\n",
              "      <div>\n",
              "<style scoped>\n",
              "    .dataframe tbody tr th:only-of-type {\n",
              "        vertical-align: middle;\n",
              "    }\n",
              "\n",
              "    .dataframe tbody tr th {\n",
              "        vertical-align: top;\n",
              "    }\n",
              "\n",
              "    .dataframe thead th {\n",
              "        text-align: right;\n",
              "    }\n",
              "</style>\n",
              "<table border=\"1\" class=\"dataframe\">\n",
              "  <thead>\n",
              "    <tr style=\"text-align: right;\">\n",
              "      <th></th>\n",
              "      <th>model</th>\n",
              "      <th>Best Score</th>\n",
              "      <th>Best Parameter</th>\n",
              "    </tr>\n",
              "  </thead>\n",
              "  <tbody>\n",
              "    <tr>\n",
              "      <th>0</th>\n",
              "      <td>Support Vector Machine</td>\n",
              "      <td>0.515</td>\n",
              "      <td>{'kernel': 'linear', 'C': 0.1}</td>\n",
              "    </tr>\n",
              "  </tbody>\n",
              "</table>\n",
              "</div>\n",
              "      <button class=\"colab-df-convert\" onclick=\"convertToInteractive('df-5554f246-d063-4564-9c4a-c2a949b2590f')\"\n",
              "              title=\"Convert this dataframe to an interactive table.\"\n",
              "              style=\"display:none;\">\n",
              "        \n",
              "  <svg xmlns=\"http://www.w3.org/2000/svg\" height=\"24px\"viewBox=\"0 0 24 24\"\n",
              "       width=\"24px\">\n",
              "    <path d=\"M0 0h24v24H0V0z\" fill=\"none\"/>\n",
              "    <path d=\"M18.56 5.44l.94 2.06.94-2.06 2.06-.94-2.06-.94-.94-2.06-.94 2.06-2.06.94zm-11 1L8.5 8.5l.94-2.06 2.06-.94-2.06-.94L8.5 2.5l-.94 2.06-2.06.94zm10 10l.94 2.06.94-2.06 2.06-.94-2.06-.94-.94-2.06-.94 2.06-2.06.94z\"/><path d=\"M17.41 7.96l-1.37-1.37c-.4-.4-.92-.59-1.43-.59-.52 0-1.04.2-1.43.59L10.3 9.45l-7.72 7.72c-.78.78-.78 2.05 0 2.83L4 21.41c.39.39.9.59 1.41.59.51 0 1.02-.2 1.41-.59l7.78-7.78 2.81-2.81c.8-.78.8-2.07 0-2.86zM5.41 20L4 18.59l7.72-7.72 1.47 1.35L5.41 20z\"/>\n",
              "  </svg>\n",
              "      </button>\n",
              "      \n",
              "  <style>\n",
              "    .colab-df-container {\n",
              "      display:flex;\n",
              "      flex-wrap:wrap;\n",
              "      gap: 12px;\n",
              "    }\n",
              "\n",
              "    .colab-df-convert {\n",
              "      background-color: #E8F0FE;\n",
              "      border: none;\n",
              "      border-radius: 50%;\n",
              "      cursor: pointer;\n",
              "      display: none;\n",
              "      fill: #1967D2;\n",
              "      height: 32px;\n",
              "      padding: 0 0 0 0;\n",
              "      width: 32px;\n",
              "    }\n",
              "\n",
              "    .colab-df-convert:hover {\n",
              "      background-color: #E2EBFA;\n",
              "      box-shadow: 0px 1px 2px rgba(60, 64, 67, 0.3), 0px 1px 3px 1px rgba(60, 64, 67, 0.15);\n",
              "      fill: #174EA6;\n",
              "    }\n",
              "\n",
              "    [theme=dark] .colab-df-convert {\n",
              "      background-color: #3B4455;\n",
              "      fill: #D2E3FC;\n",
              "    }\n",
              "\n",
              "    [theme=dark] .colab-df-convert:hover {\n",
              "      background-color: #434B5C;\n",
              "      box-shadow: 0px 1px 3px 1px rgba(0, 0, 0, 0.15);\n",
              "      filter: drop-shadow(0px 1px 2px rgba(0, 0, 0, 0.3));\n",
              "      fill: #FFFFFF;\n",
              "    }\n",
              "  </style>\n",
              "\n",
              "      <script>\n",
              "        const buttonEl =\n",
              "          document.querySelector('#df-5554f246-d063-4564-9c4a-c2a949b2590f button.colab-df-convert');\n",
              "        buttonEl.style.display =\n",
              "          google.colab.kernel.accessAllowed ? 'block' : 'none';\n",
              "\n",
              "        async function convertToInteractive(key) {\n",
              "          const element = document.querySelector('#df-5554f246-d063-4564-9c4a-c2a949b2590f');\n",
              "          const dataTable =\n",
              "            await google.colab.kernel.invokeFunction('convertToInteractive',\n",
              "                                                     [key], {});\n",
              "          if (!dataTable) return;\n",
              "\n",
              "          const docLinkHtml = 'Like what you see? Visit the ' +\n",
              "            '<a target=\"_blank\" href=https://colab.research.google.com/notebooks/data_table.ipynb>data table notebook</a>'\n",
              "            + ' to learn more about interactive tables.';\n",
              "          element.innerHTML = '';\n",
              "          dataTable['output_type'] = 'display_data';\n",
              "          await google.colab.output.renderOutput(dataTable, element);\n",
              "          const docLink = document.createElement('div');\n",
              "          docLink.innerHTML = docLinkHtml;\n",
              "          element.appendChild(docLink);\n",
              "        }\n",
              "      </script>\n",
              "    </div>\n",
              "  </div>\n",
              "  "
            ],
            "text/plain": [
              "                    model  Best Score                  Best Parameter\n",
              "0  Support Vector Machine       0.515  {'kernel': 'linear', 'C': 0.1}"
            ]
          },
          "metadata": {},
          "execution_count": 12
        }
      ]
    },
    {
      "cell_type": "code",
      "source": [
        "svm = SVC(kernel = 'linear', C = 0.1)\n",
        "svm.fit(X_train, Y_train)\n",
        "\n",
        "Y_pred_train = svm.predict(X_train)\n",
        "Y_pred_test = svm.predict(X_test)\n",
        "\n",
        "print(\"Classification Report(Train)\\n\")\n",
        "print(classification_report(Y_train, Y_pred_train))\n",
        "\n",
        "print('\\n')\n",
        "\n",
        "print(\"Classification Report(Test)\\n\")\n",
        "print(classification_report(Y_test, Y_pred_test))"
      ],
      "metadata": {
        "colab": {
          "base_uri": "https://localhost:8080/"
        },
        "id": "Lw_wtrAXMQvt",
        "outputId": "dff8e593-93bd-49da-f64e-f032fd478290"
      },
      "execution_count": null,
      "outputs": [
        {
          "output_type": "stream",
          "name": "stdout",
          "text": [
            "Classification Report(Train)\n",
            "\n",
            "              precision    recall  f1-score   support\n",
            "\n",
            "           0       0.53      0.62      0.57       120\n",
            "           1       0.39      0.35      0.37       120\n",
            "           2       0.85      0.91      0.88       120\n",
            "           3       0.60      0.57      0.59       120\n",
            "           4       0.75      0.68      0.71       120\n",
            "\n",
            "    accuracy                           0.63       600\n",
            "   macro avg       0.62      0.63      0.62       600\n",
            "weighted avg       0.62      0.63      0.62       600\n",
            "\n",
            "\n",
            "\n",
            "Classification Report(Test)\n",
            "\n",
            "              precision    recall  f1-score   support\n",
            "\n",
            "           0       0.34      0.40      0.37        30\n",
            "           1       0.13      0.10      0.11        30\n",
            "           2       0.89      0.83      0.86        30\n",
            "           3       0.56      0.60      0.58        30\n",
            "           4       0.62      0.67      0.65        30\n",
            "\n",
            "    accuracy                           0.52       150\n",
            "   macro avg       0.51      0.52      0.51       150\n",
            "weighted avg       0.51      0.52      0.51       150\n",
            "\n"
          ]
        }
      ]
    },
    {
      "cell_type": "code",
      "source": [
        "cm = confusion_matrix(Y_test, Y_pred_test);\n",
        "\n",
        "sns.heatmap(cm, annot=True, fmt='.3g', cmap='Blues')\n",
        "plt.title('Confusion Matrix')\n",
        "plt.xlabel('Predicted Y')\n",
        "plt.ylabel('Actual Y')\n",
        "\n",
        "plt.xticks(np.arange(5));\n",
        "plt.yticks(np.arange(5));\n",
        "\n",
        "plt.show()"
      ],
      "metadata": {
        "colab": {
          "base_uri": "https://localhost:8080/",
          "height": 295
        },
        "id": "KAs_2NDXiL0i",
        "outputId": "ddfc5561-bc57-4b42-f952-db93d1de4b59"
      },
      "execution_count": null,
      "outputs": [
        {
          "output_type": "display_data",
          "data": {
            "image/png": "[encoded data removed]",
            "text/plain": [
              "<Figure size 432x288 with 2 Axes>"
            ]
          },
          "metadata": {
            "needs_background": "light"
          }
        }
      ]
    },
    {
      "cell_type": "markdown",
      "source": [
        "#**Data 2(without constraints)**"
      ],
      "metadata": {
        "id": "fPewbucUBjWp"
      }
    },
    {
      "cell_type": "markdown",
      "source": [
        "##**1000 Data points**"
      ],
      "metadata": {
        "id": "Z7oXFCqMBjZ_"
      }
    },
    {
      "cell_type": "code",
      "source": [
        "df_train = pd.DataFrame()\n",
        "df_test = pd.DataFrame()\n",
        "\n",
        "for i in range(5):\n",
        "  df_train1 = pd.DataFrame()\n",
        "  df_train1 = pd.read_csv(f\"/content/drive/MyDrive/BTP/Data/1D/data-2/w_1/train/{i}.csv\")\n",
        "  df_train1 = df_train1.drop(df_train1.columns[0], axis=1)  \n",
        "  df_train1[\"target\"] = np.ones(df_train1.shape[0], dtype=\"int\")*i\n",
        "  df_train = pd.concat([df_train, df_train1], axis=0)\n",
        "\n",
        "  df_test1 = pd.DataFrame()\n",
        "  df_test1 = pd.read_csv(f\"/content/drive/MyDrive/BTP/Data/1D/data-2/w_1/test/{i}.csv\")\n",
        "  df_test1 = df_test1.drop(df_test1.columns[0], axis=1)  \n",
        "  df_test1[\"target\"] = np.ones(df_test1.shape[0])*i\n",
        "  df_test = pd.concat([df_test, df_test1], axis=0)\n",
        "\n",
        "  df_valid = pd.DataFrame()\n",
        "  df_valid = pd.read_csv(f\"/content/drive/MyDrive/BTP/Data/1D/data-2/w_1/validation/{i}.csv\")\n",
        "  df_valid = df_valid.drop(df_valid.columns[0], axis=1)  \n",
        "  df_valid[\"target\"] = np.ones(df_valid.shape[0])*i\n",
        "  df_test = pd.concat([df_test, df_valid], axis=0)\n",
        "\n",
        "X_train = df_train.drop(\"target\", axis=1)\n",
        "Y_train = df_train[\"target\"]\n",
        "\n",
        "X_train = np.array(X_train)\n",
        "Y_train = np.array(Y_train, dtype='int')\n",
        "\n",
        "X_test = df_test.drop(\"target\", axis=1)\n",
        "Y_test = df_test[\"target\"]\n",
        "\n",
        "X_test = np.array(X_test)\n",
        "Y_test = np.array(Y_test, dtype='int')\n",
        "\n",
        "ss = StandardScaler()\n",
        "ss.fit(X_train)\n",
        "\n",
        "X_train = ss.transform(X_train)\n",
        "X_test = ss.transform(X_test)"
      ],
      "metadata": {
        "id": "KLVobJeuB3ux"
      },
      "execution_count": null,
      "outputs": []
    },
    {
      "cell_type": "code",
      "source": [
        "C = [0, 0.001, 0.01, 0.1, 1, 10, 100]\n",
        "kernel = ['linear', 'poly', 'rbf']\n",
        "\n",
        "model_params = {\n",
        "    'Support Vector Machine':{\n",
        "        'model': SVC(),\n",
        "        'params':{\n",
        "            'C': C,\n",
        "            'kernel': kernel\n",
        "        }\n",
        "    }\n",
        "}"
      ],
      "metadata": {
        "id": "R7suWUegnOQ2"
      },
      "execution_count": null,
      "outputs": []
    },
    {
      "cell_type": "code",
      "source": [
        "scores = []\n",
        "\n",
        "for model_name, mp in model_params.items():\n",
        "    best_model = RandomizedSearchCV(estimator=mp['model'], \n",
        "                                    param_distributions=mp['params'], \n",
        "                                    scoring='accuracy', \n",
        "                                    n_iter = 21,\n",
        "                                    cv=3,\n",
        "                                    verbose=0)\n",
        "    \n",
        "    best_model.fit(X_train, Y_train)\n",
        "    scores.append({\n",
        "        'model':model_name,\n",
        "        'Best Score':best_model.best_score_,\n",
        "        'Best Parameter':best_model.best_params_\n",
        "    })\n",
        "\n",
        "best_params = pd.DataFrame(scores)\n",
        "best_params.head()"
      ],
      "metadata": {
        "id": "6_9a_ek_nP0U",
        "colab": {
          "base_uri": "https://localhost:8080/",
          "height": 80
        },
        "outputId": "9aa35242-db0d-485a-a4e7-0adeaa5eaa98"
      },
      "execution_count": null,
      "outputs": [
        {
          "output_type": "execute_result",
          "data": {
            "text/html": [
              "\n",
              "  <div id=\"df-edf380e6-0aab-4bd5-b7b7-0eba6a580623\">\n",
              "    <div class=\"colab-df-container\">\n",
              "      <div>\n",
              "<style scoped>\n",
              "    .dataframe tbody tr th:only-of-type {\n",
              "        vertical-align: middle;\n",
              "    }\n",
              "\n",
              "    .dataframe tbody tr th {\n",
              "        vertical-align: top;\n",
              "    }\n",
              "\n",
              "    .dataframe thead th {\n",
              "        text-align: right;\n",
              "    }\n",
              "</style>\n",
              "<table border=\"1\" class=\"dataframe\">\n",
              "  <thead>\n",
              "    <tr style=\"text-align: right;\">\n",
              "      <th></th>\n",
              "      <th>model</th>\n",
              "      <th>Best Score</th>\n",
              "      <th>Best Parameter</th>\n",
              "    </tr>\n",
              "  </thead>\n",
              "  <tbody>\n",
              "    <tr>\n",
              "      <th>0</th>\n",
              "      <td>Support Vector Machine</td>\n",
              "      <td>0.485</td>\n",
              "      <td>{'kernel': 'linear', 'C': 0.01}</td>\n",
              "    </tr>\n",
              "  </tbody>\n",
              "</table>\n",
              "</div>\n",
              "      <button class=\"colab-df-convert\" onclick=\"convertToInteractive('df-edf380e6-0aab-4bd5-b7b7-0eba6a580623')\"\n",
              "              title=\"Convert this dataframe to an interactive table.\"\n",
              "              style=\"display:none;\">\n",
              "        \n",
              "  <svg xmlns=\"http://www.w3.org/2000/svg\" height=\"24px\"viewBox=\"0 0 24 24\"\n",
              "       width=\"24px\">\n",
              "    <path d=\"M0 0h24v24H0V0z\" fill=\"none\"/>\n",
              "    <path d=\"M18.56 5.44l.94 2.06.94-2.06 2.06-.94-2.06-.94-.94-2.06-.94 2.06-2.06.94zm-11 1L8.5 8.5l.94-2.06 2.06-.94-2.06-.94L8.5 2.5l-.94 2.06-2.06.94zm10 10l.94 2.06.94-2.06 2.06-.94-2.06-.94-.94-2.06-.94 2.06-2.06.94z\"/><path d=\"M17.41 7.96l-1.37-1.37c-.4-.4-.92-.59-1.43-.59-.52 0-1.04.2-1.43.59L10.3 9.45l-7.72 7.72c-.78.78-.78 2.05 0 2.83L4 21.41c.39.39.9.59 1.41.59.51 0 1.02-.2 1.41-.59l7.78-7.78 2.81-2.81c.8-.78.8-2.07 0-2.86zM5.41 20L4 18.59l7.72-7.72 1.47 1.35L5.41 20z\"/>\n",
              "  </svg>\n",
              "      </button>\n",
              "      \n",
              "  <style>\n",
              "    .colab-df-container {\n",
              "      display:flex;\n",
              "      flex-wrap:wrap;\n",
              "      gap: 12px;\n",
              "    }\n",
              "\n",
              "    .colab-df-convert {\n",
              "      background-color: #E8F0FE;\n",
              "      border: none;\n",
              "      border-radius: 50%;\n",
              "      cursor: pointer;\n",
              "      display: none;\n",
              "      fill: #1967D2;\n",
              "      height: 32px;\n",
              "      padding: 0 0 0 0;\n",
              "      width: 32px;\n",
              "    }\n",
              "\n",
              "    .colab-df-convert:hover {\n",
              "      background-color: #E2EBFA;\n",
              "      box-shadow: 0px 1px 2px rgba(60, 64, 67, 0.3), 0px 1px 3px 1px rgba(60, 64, 67, 0.15);\n",
              "      fill: #174EA6;\n",
              "    }\n",
              "\n",
              "    [theme=dark] .colab-df-convert {\n",
              "      background-color: #3B4455;\n",
              "      fill: #D2E3FC;\n",
              "    }\n",
              "\n",
              "    [theme=dark] .colab-df-convert:hover {\n",
              "      background-color: #434B5C;\n",
              "      box-shadow: 0px 1px 3px 1px rgba(0, 0, 0, 0.15);\n",
              "      filter: drop-shadow(0px 1px 2px rgba(0, 0, 0, 0.3));\n",
              "      fill: #FFFFFF;\n",
              "    }\n",
              "  </style>\n",
              "\n",
              "      <script>\n",
              "        const buttonEl =\n",
              "          document.querySelector('#df-edf380e6-0aab-4bd5-b7b7-0eba6a580623 button.colab-df-convert');\n",
              "        buttonEl.style.display =\n",
              "          google.colab.kernel.accessAllowed ? 'block' : 'none';\n",
              "\n",
              "        async function convertToInteractive(key) {\n",
              "          const element = document.querySelector('#df-edf380e6-0aab-4bd5-b7b7-0eba6a580623');\n",
              "          const dataTable =\n",
              "            await google.colab.kernel.invokeFunction('convertToInteractive',\n",
              "                                                     [key], {});\n",
              "          if (!dataTable) return;\n",
              "\n",
              "          const docLinkHtml = 'Like what you see? Visit the ' +\n",
              "            '<a target=\"_blank\" href=https://colab.research.google.com/notebooks/data_table.ipynb>data table notebook</a>'\n",
              "            + ' to learn more about interactive tables.';\n",
              "          element.innerHTML = '';\n",
              "          dataTable['output_type'] = 'display_data';\n",
              "          await google.colab.output.renderOutput(dataTable, element);\n",
              "          const docLink = document.createElement('div');\n",
              "          docLink.innerHTML = docLinkHtml;\n",
              "          element.appendChild(docLink);\n",
              "        }\n",
              "      </script>\n",
              "    </div>\n",
              "  </div>\n",
              "  "
            ],
            "text/plain": [
              "                    model  Best Score                   Best Parameter\n",
              "0  Support Vector Machine       0.485  {'kernel': 'linear', 'C': 0.01}"
            ]
          },
          "metadata": {},
          "execution_count": 17
        }
      ]
    },
    {
      "cell_type": "code",
      "source": [
        "svm = SVC(kernel = 'linear', C = 0.01)\n",
        "svm.fit(X_train, Y_train)\n",
        "\n",
        "Y_pred_train = svm.predict(X_train)\n",
        "Y_pred_test = svm.predict(X_test)\n",
        "\n",
        "print(\"Classification Report(Train)\\n\")\n",
        "print(classification_report(Y_train, Y_pred_train))\n",
        "\n",
        "print('\\n')\n",
        "\n",
        "print(\"Classification Report(Test)\\n\")\n",
        "print(classification_report(Y_test, Y_pred_test))"
      ],
      "metadata": {
        "colab": {
          "base_uri": "https://localhost:8080/"
        },
        "id": "Hq5yZ9PNMRWi",
        "outputId": "b7130bb2-3336-4a39-ae1e-88f45c7006f4"
      },
      "execution_count": null,
      "outputs": [
        {
          "output_type": "stream",
          "name": "stdout",
          "text": [
            "Classification Report(Train)\n",
            "\n",
            "              precision    recall  f1-score   support\n",
            "\n",
            "           0       0.55      0.47      0.50       120\n",
            "           1       0.43      0.40      0.42       120\n",
            "           2       0.76      0.76      0.76       120\n",
            "           3       0.52      0.61      0.56       120\n",
            "           4       0.58      0.62      0.60       120\n",
            "\n",
            "    accuracy                           0.57       600\n",
            "   macro avg       0.57      0.57      0.57       600\n",
            "weighted avg       0.57      0.57      0.57       600\n",
            "\n",
            "\n",
            "\n",
            "Classification Report(Test)\n",
            "\n",
            "              precision    recall  f1-score   support\n",
            "\n",
            "           0       0.48      0.33      0.39        30\n",
            "           1       0.41      0.47      0.44        30\n",
            "           2       0.84      0.87      0.85        30\n",
            "           3       0.51      0.63      0.57        30\n",
            "           4       0.70      0.63      0.67        30\n",
            "\n",
            "    accuracy                           0.59       150\n",
            "   macro avg       0.59      0.59      0.58       150\n",
            "weighted avg       0.59      0.59      0.58       150\n",
            "\n"
          ]
        }
      ]
    },
    {
      "cell_type": "code",
      "source": [
        "cm = confusion_matrix(Y_test, Y_pred_test);\n",
        "\n",
        "sns.heatmap(cm, annot=True, fmt='.3g', cmap='Blues')\n",
        "plt.title('Confusion Matrix')\n",
        "plt.xlabel('Predicted Y')\n",
        "plt.ylabel('Actual Y')\n",
        "\n",
        "plt.xticks(np.arange(5));\n",
        "plt.yticks(np.arange(5));\n",
        "\n",
        "plt.show()"
      ],
      "metadata": {
        "colab": {
          "base_uri": "https://localhost:8080/",
          "height": 295
        },
        "id": "1RXFhwidiNGU",
        "outputId": "4062b281-8bfb-49ac-c356-62860e1498d6"
      },
      "execution_count": null,
      "outputs": [
        {
          "output_type": "display_data",
          "data": {
            "image/png": "[encoded data removed]",
            "text/plain": [
              "<Figure size 432x288 with 2 Axes>"
            ]
          },
          "metadata": {
            "needs_background": "light"
          }
        }
      ]
    },
    {
      "cell_type": "markdown",
      "source": [
        "##**2000 Data points**"
      ],
      "metadata": {
        "id": "mx5LHPznBqrH"
      }
    },
    {
      "cell_type": "code",
      "source": [
        "df_train = pd.DataFrame()\n",
        "df_test = pd.DataFrame()\n",
        "\n",
        "for i in range(5):\n",
        "  df_train1 = pd.DataFrame()\n",
        "  df_train1 = pd.read_csv(f\"/content/drive/MyDrive/BTP/Data/1D/data-2/w_0.5/train/{i}.csv\")\n",
        "  df_train1 = df_train1.drop(df_train1.columns[0], axis=1)  \n",
        "  df_train1[\"target\"] = np.ones(df_train1.shape[0], dtype=\"int\")*i\n",
        "  df_train = pd.concat([df_train, df_train1], axis=0)\n",
        "\n",
        "  df_test1 = pd.DataFrame()\n",
        "  df_test1 = pd.read_csv(f\"/content/drive/MyDrive/BTP/Data/1D/data-2/w_0.5/test/{i}.csv\")\n",
        "  df_test1 = df_test1.drop(df_test1.columns[0], axis=1)  \n",
        "  df_test1[\"target\"] = np.ones(df_test1.shape[0])*i\n",
        "  df_test = pd.concat([df_test, df_test1], axis=0)\n",
        "\n",
        "  df_valid = pd.DataFrame()\n",
        "  df_valid = pd.read_csv(f\"/content/drive/MyDrive/BTP/Data/1D/data-2/w_0.5/validation/{i}.csv\")\n",
        "  df_valid = df_valid.drop(df_valid.columns[0], axis=1)  \n",
        "  df_valid[\"target\"] = np.ones(df_valid.shape[0])*i\n",
        "  df_test = pd.concat([df_test, df_valid], axis=0)\n",
        "\n",
        "X_train = df_train.drop(\"target\", axis=1)\n",
        "Y_train = df_train[\"target\"]\n",
        "\n",
        "X_train = np.array(X_train)\n",
        "Y_train = np.array(Y_train, dtype='int')\n",
        "\n",
        "X_test = df_test.drop(\"target\", axis=1)\n",
        "Y_test = df_test[\"target\"]\n",
        "\n",
        "X_test = np.array(X_test)\n",
        "Y_test = np.array(Y_test, dtype='int')\n",
        "\n",
        "ss = StandardScaler()\n",
        "ss.fit(X_train)\n",
        "\n",
        "X_train = ss.transform(X_train)\n",
        "X_test = ss.transform(X_test)"
      ],
      "metadata": {
        "id": "tlrcZHHJB4D3"
      },
      "execution_count": null,
      "outputs": []
    },
    {
      "cell_type": "code",
      "source": [
        "C = [0, 0.001, 0.01, 0.1, 1, 10, 100]\n",
        "kernel = ['linear', 'poly', 'rbf']\n",
        "\n",
        "model_params = {\n",
        "    'Support Vector Machine':{\n",
        "        'model': SVC(),\n",
        "        'params':{\n",
        "            'C': C,\n",
        "            'kernel': kernel\n",
        "        }\n",
        "    }\n",
        "}"
      ],
      "metadata": {
        "id": "4iGRCIu3nTJk"
      },
      "execution_count": null,
      "outputs": []
    },
    {
      "cell_type": "code",
      "source": [
        "scores = []\n",
        "\n",
        "for model_name, mp in model_params.items():\n",
        "    best_model = RandomizedSearchCV(estimator=mp['model'], \n",
        "                                    param_distributions=mp['params'], \n",
        "                                    scoring='accuracy', \n",
        "                                    n_iter = 21,\n",
        "                                    cv=3,\n",
        "                                    verbose=0)\n",
        "    \n",
        "    best_model.fit(X_train, Y_train)\n",
        "    scores.append({\n",
        "        'model':model_name,\n",
        "        'Best Score':best_model.best_score_,\n",
        "        'Best Parameter':best_model.best_params_\n",
        "    })\n",
        "\n",
        "best_params = pd.DataFrame(scores)\n",
        "best_params.head()"
      ],
      "metadata": {
        "id": "EU5xgj6vnTMK",
        "colab": {
          "base_uri": "https://localhost:8080/",
          "height": 80
        },
        "outputId": "8eae0262-2d53-4048-9adc-7e45d1de8135"
      },
      "execution_count": null,
      "outputs": [
        {
          "output_type": "execute_result",
          "data": {
            "text/html": [
              "\n",
              "  <div id=\"df-b44ec271-cfd7-40c2-a35f-0e5cbd327b30\">\n",
              "    <div class=\"colab-df-container\">\n",
              "      <div>\n",
              "<style scoped>\n",
              "    .dataframe tbody tr th:only-of-type {\n",
              "        vertical-align: middle;\n",
              "    }\n",
              "\n",
              "    .dataframe tbody tr th {\n",
              "        vertical-align: top;\n",
              "    }\n",
              "\n",
              "    .dataframe thead th {\n",
              "        text-align: right;\n",
              "    }\n",
              "</style>\n",
              "<table border=\"1\" class=\"dataframe\">\n",
              "  <thead>\n",
              "    <tr style=\"text-align: right;\">\n",
              "      <th></th>\n",
              "      <th>model</th>\n",
              "      <th>Best Score</th>\n",
              "      <th>Best Parameter</th>\n",
              "    </tr>\n",
              "  </thead>\n",
              "  <tbody>\n",
              "    <tr>\n",
              "      <th>0</th>\n",
              "      <td>Support Vector Machine</td>\n",
              "      <td>0.481667</td>\n",
              "      <td>{'kernel': 'linear', 'C': 0.1}</td>\n",
              "    </tr>\n",
              "  </tbody>\n",
              "</table>\n",
              "</div>\n",
              "      <button class=\"colab-df-convert\" onclick=\"convertToInteractive('df-b44ec271-cfd7-40c2-a35f-0e5cbd327b30')\"\n",
              "              title=\"Convert this dataframe to an interactive table.\"\n",
              "              style=\"display:none;\">\n",
              "        \n",
              "  <svg xmlns=\"http://www.w3.org/2000/svg\" height=\"24px\"viewBox=\"0 0 24 24\"\n",
              "       width=\"24px\">\n",
              "    <path d=\"M0 0h24v24H0V0z\" fill=\"none\"/>\n",
              "    <path d=\"M18.56 5.44l.94 2.06.94-2.06 2.06-.94-2.06-.94-.94-2.06-.94 2.06-2.06.94zm-11 1L8.5 8.5l.94-2.06 2.06-.94-2.06-.94L8.5 2.5l-.94 2.06-2.06.94zm10 10l.94 2.06.94-2.06 2.06-.94-2.06-.94-.94-2.06-.94 2.06-2.06.94z\"/><path d=\"M17.41 7.96l-1.37-1.37c-.4-.4-.92-.59-1.43-.59-.52 0-1.04.2-1.43.59L10.3 9.45l-7.72 7.72c-.78.78-.78 2.05 0 2.83L4 21.41c.39.39.9.59 1.41.59.51 0 1.02-.2 1.41-.59l7.78-7.78 2.81-2.81c.8-.78.8-2.07 0-2.86zM5.41 20L4 18.59l7.72-7.72 1.47 1.35L5.41 20z\"/>\n",
              "  </svg>\n",
              "      </button>\n",
              "      \n",
              "  <style>\n",
              "    .colab-df-container {\n",
              "      display:flex;\n",
              "      flex-wrap:wrap;\n",
              "      gap: 12px;\n",
              "    }\n",
              "\n",
              "    .colab-df-convert {\n",
              "      background-color: #E8F0FE;\n",
              "      border: none;\n",
              "      border-radius: 50%;\n",
              "      cursor: pointer;\n",
              "      display: none;\n",
              "      fill: #1967D2;\n",
              "      height: 32px;\n",
              "      padding: 0 0 0 0;\n",
              "      width: 32px;\n",
              "    }\n",
              "\n",
              "    .colab-df-convert:hover {\n",
              "      background-color: #E2EBFA;\n",
              "      box-shadow: 0px 1px 2px rgba(60, 64, 67, 0.3), 0px 1px 3px 1px rgba(60, 64, 67, 0.15);\n",
              "      fill: #174EA6;\n",
              "    }\n",
              "\n",
              "    [theme=dark] .colab-df-convert {\n",
              "      background-color: #3B4455;\n",
              "      fill: #D2E3FC;\n",
              "    }\n",
              "\n",
              "    [theme=dark] .colab-df-convert:hover {\n",
              "      background-color: #434B5C;\n",
              "      box-shadow: 0px 1px 3px 1px rgba(0, 0, 0, 0.15);\n",
              "      filter: drop-shadow(0px 1px 2px rgba(0, 0, 0, 0.3));\n",
              "      fill: #FFFFFF;\n",
              "    }\n",
              "  </style>\n",
              "\n",
              "      <script>\n",
              "        const buttonEl =\n",
              "          document.querySelector('#df-b44ec271-cfd7-40c2-a35f-0e5cbd327b30 button.colab-df-convert');\n",
              "        buttonEl.style.display =\n",
              "          google.colab.kernel.accessAllowed ? 'block' : 'none';\n",
              "\n",
              "        async function convertToInteractive(key) {\n",
              "          const element = document.querySelector('#df-b44ec271-cfd7-40c2-a35f-0e5cbd327b30');\n",
              "          const dataTable =\n",
              "            await google.colab.kernel.invokeFunction('convertToInteractive',\n",
              "                                                     [key], {});\n",
              "          if (!dataTable) return;\n",
              "\n",
              "          const docLinkHtml = 'Like what you see? Visit the ' +\n",
              "            '<a target=\"_blank\" href=https://colab.research.google.com/notebooks/data_table.ipynb>data table notebook</a>'\n",
              "            + ' to learn more about interactive tables.';\n",
              "          element.innerHTML = '';\n",
              "          dataTable['output_type'] = 'display_data';\n",
              "          await google.colab.output.renderOutput(dataTable, element);\n",
              "          const docLink = document.createElement('div');\n",
              "          docLink.innerHTML = docLinkHtml;\n",
              "          element.appendChild(docLink);\n",
              "        }\n",
              "      </script>\n",
              "    </div>\n",
              "  </div>\n",
              "  "
            ],
            "text/plain": [
              "                    model  Best Score                  Best Parameter\n",
              "0  Support Vector Machine    0.481667  {'kernel': 'linear', 'C': 0.1}"
            ]
          },
          "metadata": {},
          "execution_count": 22
        }
      ]
    },
    {
      "cell_type": "code",
      "source": [
        "svm = SVC(kernel = 'linear', C = 0.1)\n",
        "svm.fit(X_train, Y_train)\n",
        "\n",
        "Y_pred_train = svm.predict(X_train)\n",
        "Y_pred_test = svm.predict(X_test)\n",
        "\n",
        "print(\"Classification Report(Train)\\n\")\n",
        "print(classification_report(Y_train, Y_pred_train))\n",
        "\n",
        "print('\\n')\n",
        "\n",
        "print(\"Classification Report(Test)\\n\")\n",
        "print(classification_report(Y_test, Y_pred_test))"
      ],
      "metadata": {
        "colab": {
          "base_uri": "https://localhost:8080/"
        },
        "id": "6GLOrTiGMS49",
        "outputId": "2854dd51-ac95-43d6-9915-b837a1400bdf"
      },
      "execution_count": null,
      "outputs": [
        {
          "output_type": "stream",
          "name": "stdout",
          "text": [
            "Classification Report(Train)\n",
            "\n",
            "              precision    recall  f1-score   support\n",
            "\n",
            "           0       0.52      0.59      0.55       120\n",
            "           1       0.39      0.31      0.34       120\n",
            "           2       0.87      0.86      0.87       120\n",
            "           3       0.55      0.50      0.52       120\n",
            "           4       0.55      0.64      0.59       120\n",
            "\n",
            "    accuracy                           0.58       600\n",
            "   macro avg       0.58      0.58      0.58       600\n",
            "weighted avg       0.58      0.58      0.58       600\n",
            "\n",
            "\n",
            "\n",
            "Classification Report(Test)\n",
            "\n",
            "              precision    recall  f1-score   support\n",
            "\n",
            "           0       0.52      0.47      0.49        30\n",
            "           1       0.38      0.27      0.31        30\n",
            "           2       0.72      0.70      0.71        30\n",
            "           3       0.74      0.67      0.70        30\n",
            "           4       0.46      0.70      0.55        30\n",
            "\n",
            "    accuracy                           0.56       150\n",
            "   macro avg       0.56      0.56      0.55       150\n",
            "weighted avg       0.56      0.56      0.55       150\n",
            "\n"
          ]
        }
      ]
    },
    {
      "cell_type": "code",
      "source": [
        "cm = confusion_matrix(Y_test, Y_pred_test);\n",
        "\n",
        "sns.heatmap(cm, annot=True, fmt='.3g', cmap='Blues')\n",
        "plt.title('Confusion Matrix')\n",
        "plt.xlabel('Predicted Y')\n",
        "plt.ylabel('Actual Y')\n",
        "\n",
        "plt.xticks(np.arange(5));\n",
        "plt.yticks(np.arange(5));\n",
        "\n",
        "plt.show()"
      ],
      "metadata": {
        "colab": {
          "base_uri": "https://localhost:8080/",
          "height": 295
        },
        "id": "k6poCjYRiOJP",
        "outputId": "a6e93900-b735-4292-f930-e29b64149f0d"
      },
      "execution_count": null,
      "outputs": [
        {
          "output_type": "display_data",
          "data": {
            "image/png": "[encoded data removed]",
            "text/plain": [
              "<Figure size 432x288 with 2 Axes>"
            ]
          },
          "metadata": {
            "needs_background": "light"
          }
        }
      ]
    }
  ]
}